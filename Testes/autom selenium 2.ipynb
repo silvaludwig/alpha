{
 "cells": [
  {
   "cell_type": "code",
   "execution_count": 8,
   "metadata": {},
   "outputs": [],
   "source": [
    "from selenium import webdriver\n",
    "from webdriver_manager.chrome import ChromeDriverManager\n",
    "from selenium.webdriver.chrome.service import Service\n",
    "\n",
    "\n",
    "servico = Service(ChromeDriverManager().install())\n",
    "navegador = webdriver.Chrome(service=servico)"
   ]
  },
  {
   "cell_type": "code",
   "execution_count": 9,
   "metadata": {},
   "outputs": [],
   "source": [
    "# abrir o site, fazer login\n",
    "navegador.get('https://institutoalexa.paineldoaluno.com.br/professor_login')\n",
    "navegador.find_element('xpath', '//*[@id=\"usuario\"]').send_keys('11309681627')\n",
    "navegador.find_element('xpath', '//*[@id=\"senha\"]').send_keys('80444')\n",
    "navegador.find_element('xpath', '//*[@id=\"Meio\"]/td[2]/form/fieldset/input').click()"
   ]
  },
  {
   "cell_type": "code",
   "execution_count": null,
   "metadata": {},
   "outputs": [],
   "source": [
    "# acessar o painel de aulas\n",
    "navegador.find_element('xpath', '//*[@id=\"esquerdo\"]/ul/li[4]/a').click()"
   ]
  },
  {
   "cell_type": "code",
   "execution_count": null,
   "metadata": {},
   "outputs": [],
   "source": [
    "# acessar primeira aula esq\n",
    "navegador.find_element('xpath', '//*[@id=\"dias_horarios_aulas\"]/li/div/div[1]').click()"
   ]
  },
  {
   "cell_type": "code",
   "execution_count": null,
   "metadata": {},
   "outputs": [],
   "source": [
    "# inserção dos textos/enviar relatório:\n",
    "# metodologia\n",
    "navegador.find_element('xpath', '//*[@id=\"metodologia\"]').send_keys('Aula expositiva dialogada com foco no aprendizado por imitação e desenvolvimento em grupo, tendo como base a metodologia sociointerativista.')\n",
    "#formas de interação\n",
    "navegador.find_element('xpath', '//*[@id=\"interacao\"]').send_keys('Aula coletiva com troca de saberes entre os participantes.')\n",
    "# registros\n",
    "navegador.find_element('xpath', '//*[@id=\"participacao_estudantes\"]').send_keys('Lista de chamada e registros fotográficos')\n",
    "# avaliação\n",
    "navegador.find_element('xpath', '//*[@id=\"avaliacao_nao_presencial\"]').send_keys('Os alunos foram avaliados individualmente de acordo com a capacidade de execução do repertório e exercícios propostos.')\n",
    "# enviar relatóRecursionError\n",
    "navegador.find_element('xpath', '//*[@id=\"btnSalvar\"]').click()"
   ]
  }
 ],
 "metadata": {
  "kernelspec": {
   "display_name": "Python 3",
   "language": "python",
   "name": "python3"
  },
  "language_info": {
   "codemirror_mode": {
    "name": "ipython",
    "version": 3
   },
   "file_extension": ".py",
   "mimetype": "text/x-python",
   "name": "python",
   "nbconvert_exporter": "python",
   "pygments_lexer": "ipython3",
   "version": "3.11.5"
  }
 },
 "nbformat": 4,
 "nbformat_minor": 2
}
